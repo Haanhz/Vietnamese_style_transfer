{
 "cells": [
  {
   "cell_type": "code",
   "execution_count": null,
   "metadata": {},
   "outputs": [],
   "source": [
    "import pandas as pd\n",
    "import nltk\n",
    "from collections import Counter\n",
    "import string"
   ]
  },
  {
   "cell_type": "code",
   "execution_count": 1,
   "metadata": {},
   "outputs": [
    {
     "name": "stdout",
     "output_type": "stream",
     "text": [
      "Đã chuyển đổi thành công và lưu vào file informal_sentences2.csv\n"
     ]
    }
   ],
   "source": [
    "import pandas as pd\n",
    "import re\n",
    "\n",
    "def normalize_text(text):\n",
    "    text = text.lower() g\n",
    "    return text\n",
    "\n",
    "def formal_to_informal(sentence):\n",
    "    sentence = normalize_text(sentence)\n",
    "\n",
    "    replacements = {\n",
    "        \"chúng ta\": \"tụi mình\",\n",
    "        \"quý khách\": \"bạn\",\n",
    "        \"quý khách hàng\": \"bạn\",\n",
    "        \"xin phép\": \"\",\n",
    "        \"mạn phép\":\"\",\n",
    "        \"xin mời\":\"mời\",\n",
    "        \"cảm ơn\": \"cám ơn\",\n",
    "        \"rất cảm ơn\": \"cám ơn nhiều\",\n",
    "        \"thưa ông/bà\": \"\",\n",
    "        \"trân trọng\": \"\",\n",
    "        \"thân\":\"\",\n",
    "        \"vui lòng\": \"hãy\",\n",
    "        \"liên hệ\": \"gọi\",\n",
    "        \"thông tin\": \"tin\",\n",
    "        \"đính kèm\": \"gửi\",\n",
    "        \"thông báo\":\"báo\",\n",
    "        \"phản hồi\":\"trả lời\",\n",
    "        \"với mong muốn\":\"mong\",\n",
    "        \"hy vọng\":\"mong\",\n",
    "        \"cho phép\":\"cho\",\n",
    "        \"quý vị\":\"bạn\",\n",
    "        \"chân thành\":\"\",\n",
    "        \"đừng ngần ngại\":\"\",\n",
    "        \"hồi âm\":\"trả lời\",\n",
    "        \"cam kết\":\"xin hứa\",\n",
    "        \"kính\":\"\",\n",
    "        \"quý ông bà\":\"ông bà\",\n",
    "        \"hân hạnh\":\"vui\",\n",
    "        \"xin hân hạnh\":\"\",\n",
    "        \"cái vinh dự\":\"\",\n",
    "        \"vô cùng biết ơn\":\"rất vui\",\n",
    "        \"không phiền\":\"\",\n",
    "        \"xin vui lòng\":\"hãy\",\n",
    "        \"quý công ty\":\"công ty\",\n",
    "        \"thật sự\":\"rất\",\n",
    "        \"tuyển dụng\":\"cần tìm\",\n",
    "\n",
    "    }\n",
    "    \n",
    "    # Thay thế các từ formal thành informal\n",
    "    for formal, informal in replacements.items():\n",
    "        sentence = sentence.replace(formal, informal)\n",
    "\n",
    "# Đọc file CSV với dữ liệu formal\n",
    "input_file = 'formal.csv'  # Đường dẫn file input\n",
    "output_file = 'informal_sentences.csv'  # Đường dẫn file output\n",
    "\n",
    "# Đọc dữ liệu từ file CSV\n",
    "df = pd.read_csv(input_file,encoding='utf-8-sig')\n",
    "\n",
    "\n",
    "if 'sentence' in df.columns:\n",
    "    df['informal'] = df['sentence'].apply(formal_to_informal)\n",
    "    df.to_csv(output_file, index=False,encoding='utf-8-sig')\n",
    "\n",
    "    print(f\"Đã chuyển đổi thành công và lưu vào file {output_file}\")\n",
    "else:\n",
    "    print(\"Cột 'formal' không tìm thấy trong file CSV.\")\n"
   ]
  }
 ],
 "metadata": {
  "kernelspec": {
   "display_name": "Python 3",
   "language": "python",
   "name": "python3"
  },
  "language_info": {
   "codemirror_mode": {
    "name": "ipython",
    "version": 3
   },
   "file_extension": ".py",
   "mimetype": "text/x-python",
   "name": "python",
   "nbconvert_exporter": "python",
   "pygments_lexer": "ipython3",
   "version": "3.12.3"
  }
 },
 "nbformat": 4,
 "nbformat_minor": 2
}
